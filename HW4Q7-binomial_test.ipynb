{
 "cells": [
  {
   "cell_type": "code",
   "execution_count": 1,
   "id": "e4384fed-ae96-44bd-bc90-d9c7677315e6",
   "metadata": {},
   "outputs": [],
   "source": [
    "import math\n",
    "from scipy.stats import norm"
   ]
  },
  {
   "cell_type": "code",
   "execution_count": 2,
   "id": "9c26279d-9419-4b5e-a5c6-b443b9cd6b41",
   "metadata": {},
   "outputs": [],
   "source": [
    "n = 60\n",
    "p = 19 / 60.0\n",
    "k = 19\n",
    "p_0 = 10 / 60.0\n",
    "alpha = 0.05"
   ]
  },
  {
   "cell_type": "code",
   "execution_count": 3,
   "id": "069f2135-5527-40ce-98ad-f2a188adb03d",
   "metadata": {},
   "outputs": [
    {
     "data": {
      "text/plain": [
       "True"
      ]
     },
     "execution_count": 3,
     "metadata": {},
     "output_type": "execute_result"
    }
   ],
   "source": [
    "0 < n*p_0 - 3*math.sqrt(n*p_0*(1-p_0)) < n*p_0 + 3*math.sqrt(n*p_0*(1-p_0)) < n"
   ]
  },
  {
   "cell_type": "markdown",
   "id": "0611ea33-3680-413f-a0ae-6f1179b43100",
   "metadata": {},
   "source": [
    "Thus, we can use the Large-sample test for the Binomial data"
   ]
  },
  {
   "cell_type": "code",
   "execution_count": 4,
   "id": "c0d5d918-e35f-4b36-a5b5-76495f37cca1",
   "metadata": {},
   "outputs": [
    {
     "data": {
      "text/plain": [
       "3.117691453623979"
      ]
     },
     "execution_count": 4,
     "metadata": {},
     "output_type": "execute_result"
    }
   ],
   "source": [
    "z = (k - n*p_0) / (math.sqrt(n*p_0*(1-p_0)))\n",
    "z"
   ]
  },
  {
   "cell_type": "code",
   "execution_count": 5,
   "id": "78fb50b7-6a49-4c2f-b80f-7b77b28a6a8b",
   "metadata": {},
   "outputs": [
    {
     "data": {
      "text/plain": [
       "0.0009113675831956993"
      ]
     },
     "execution_count": 5,
     "metadata": {},
     "output_type": "execute_result"
    }
   ],
   "source": [
    "p_value = norm.sf(z)\n",
    "p_value"
   ]
  },
  {
   "cell_type": "code",
   "execution_count": 6,
   "id": "57d17967-8c97-49fb-a608-89fdd71ddf1e",
   "metadata": {},
   "outputs": [
    {
     "name": "stdout",
     "output_type": "stream",
     "text": [
      "Reject H0\n"
     ]
    }
   ],
   "source": [
    "if p_value <= alpha:\n",
    "    print(\"Reject H0\")\n",
    "else:\n",
    "    print(\"Fail to reject H0\")"
   ]
  }
 ],
 "metadata": {
  "kernelspec": {
   "display_name": "Python 3 (ipykernel)",
   "language": "python",
   "name": "python3"
  },
  "language_info": {
   "codemirror_mode": {
    "name": "ipython",
    "version": 3
   },
   "file_extension": ".py",
   "mimetype": "text/x-python",
   "name": "python",
   "nbconvert_exporter": "python",
   "pygments_lexer": "ipython3",
   "version": "3.9.6"
  }
 },
 "nbformat": 4,
 "nbformat_minor": 5
}
